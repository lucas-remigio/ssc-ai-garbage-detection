{
  "nbformat": 4,
  "nbformat_minor": 0,
  "metadata": {
    "colab": {
      "provenance": [],
      "mount_file_id": "https://github.com/lucas-remigio/ssc-ai-garbage-detection/blob/main/SSC.ipynb",
      "authorship_tag": "ABX9TyMTaG0OUwiwxdVz5HLt6SqG",
      "include_colab_link": true
    },
    "kernelspec": {
      "name": "python3",
      "display_name": "Python 3"
    },
    "language_info": {
      "name": "python"
    }
  },
  "cells": [
    {
      "cell_type": "markdown",
      "metadata": {
        "id": "view-in-github",
        "colab_type": "text"
      },
      "source": [
        "<a href=\"https://colab.research.google.com/github/lucas-remigio/ssc-ai-garbage-detection/blob/main/SSC.ipynb\" target=\"_parent\"><img src=\"https://colab.research.google.com/assets/colab-badge.svg\" alt=\"Open In Colab\"/></a>"
      ]
    },
    {
      "cell_type": "code",
      "execution_count": 1,
      "metadata": {
        "id": "9rCT0KQzLV4Y"
      },
      "outputs": [],
      "source": [
        "from keras.utils import image_dataset_from_directory\n",
        "import matplotlib.pyplot as plt\n",
        "from tensorflow import keras\n",
        "from keras import layers\n",
        "from keras import models\n",
        "import tensorflow as tf"
      ]
    },
    {
      "cell_type": "code",
      "source": [
        "from google.colab import drive\n",
        "import os\n",
        "\n",
        "# Mount Google Drive\n",
        "drive.mount('/content/drive')\n",
        "\n",
        "# List directories in your Google Drive root\n",
        "print(\"Directories in Drive root:\")\n",
        "root_path = \"/content/drive/MyDrive\"\n",
        "print(os.listdir(root_path))\n",
        "\n",
        "# /content/drive/MyDrive/Colab Notebooks/garbage-70-15-15\n",
        "\n",
        "# If you want to check a specific path\n",
        "specific_path = \"/content/drive/MyDrive/Colab Notebooks/garbage-70-15-15\"\n",
        "if os.path.exists(specific_path):\n",
        "    print(f\"\\nContents of {specific_path}:\")\n",
        "    print(os.listdir(specific_path))\n",
        "else:\n",
        "    print(f\"\\nPath {specific_path} does not exist\")\n",
        "\n",
        "# Function to list directories with a specific depth\n",
        "def list_dirs(path, indent=0):\n",
        "    for item in os.listdir(path):\n",
        "        full_path = os.path.join(path, item)\n",
        "        if os.path.isdir(full_path):\n",
        "            print(\" \" * indent + \"📁 \" + item)\n",
        "            if indent < 4:  # Limit recursion depth\n",
        "                list_dirs(full_path, indent + 2)\n",
        "        else:\n",
        "            print(\" \" * indent + \"📄 \" + item)\n",
        "\n",
        "# Use this to explore your Drive structure\n",
        "print(\"\\nDirectory structure:\")\n",
        "list_dirs(root_path, 0)"
      ],
      "metadata": {
        "colab": {
          "base_uri": "https://localhost:8080/"
        },
        "id": "3gnERLOeGV_O",
        "outputId": "e457719c-f736-40cf-c5cb-100833cb2b95"
      },
      "execution_count": 5,
      "outputs": [
        {
          "output_type": "stream",
          "name": "stdout",
          "text": [
            "Drive already mounted at /content/drive; to attempt to forcibly remount, call drive.mount(\"/content/drive\", force_remount=True).\n",
            "Directories in Drive root:\n",
            "['Colab Notebooks']\n",
            "\n",
            "Contents of /content/drive/MyDrive/Colab Notebooks/garbage-70-15-15:\n",
            "['test', 'train', 'valid', 'README.roboflow.txt', 'README.dataset.txt']\n",
            "\n",
            "Directory structure:\n",
            "📁 Colab Notebooks\n",
            "  📄 SSC.ipynb\n",
            "  📁 garbage-dataset\n",
            "    📄 .DS_Store\n",
            "    📁 biological\n",
            "    📁 paper\n",
            "    📁 metal\n",
            "    📁 trash\n",
            "    📁 glass\n",
            "    📁 clothes\n",
            "    📁 cardboard\n",
            "    📁 battery\n",
            "    📁 shoes\n",
            "    📁 plastic\n",
            "  📁 garbage-70-15-15\n",
            "    📁 test\n",
            "    📁 train\n",
            "    📁 valid\n",
            "    📄 README.roboflow.txt\n",
            "    📄 README.dataset.txt\n",
            "  📁 garbage-noaug-70-15-15\n",
            "    📄 .DS_Store\n",
            "    📁 valid\n",
            "    📁 test\n",
            "    📁 train\n",
            "    📄 README.roboflow.txt\n",
            "    📄 README.dataset.txt\n"
          ]
        }
      ]
    },
    {
      "cell_type": "code",
      "source": [
        "train_dir = specific_path + \"/train\"\n",
        "validation_dir = specific_path + \"/valid\"\n",
        "test_dir = specific_path + \"/test\"\n",
        "\n",
        "IMG_SIZE = 640\n",
        "\n",
        "train_dataset = image_dataset_from_directory(\n",
        "    train_dir,\n",
        "    image_size=(IMG_SIZE, IMG_SIZE),\n",
        "    batch_size=32\n",
        ")\n",
        "\n",
        "validation_dataset = image_dataset_from_directory(\n",
        "    validation_dir,\n",
        "    image_size=(IMG_SIZE, IMG_SIZE),\n",
        "    batch_size=32\n",
        ")\n",
        "\n",
        "test_dataset = image_dataset_from_directory(\n",
        "    test_dir,\n",
        "    image_size=(IMG_SIZE, IMG_SIZE),\n",
        "    batch_size=32\n",
        ")\n",
        "\n"
      ],
      "metadata": {
        "colab": {
          "base_uri": "https://localhost:8080/"
        },
        "id": "QM_Q87BIO7Bo",
        "outputId": "9859eef2-f10b-49e7-8bd2-f7197d762c00"
      },
      "execution_count": 8,
      "outputs": [
        {
          "output_type": "stream",
          "name": "stdout",
          "text": [
            "Found 41648 files belonging to 10 classes.\n",
            "Found 2995 files belonging to 10 classes.\n",
            "Found 2995 files belonging to 10 classes.\n"
          ]
        }
      ]
    }
  ]
}